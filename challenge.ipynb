{
 "cells": [
  {
   "cell_type": "code",
   "execution_count": 1,
   "id": "7c417d00",
   "metadata": {},
   "outputs": [
    {
     "name": "stdout",
     "output_type": "stream",
     "text": [
      "Enter a number of rows:6\n",
      "* \n",
      "* * \n",
      "* * * \n",
      "* * * * \n",
      "* * * * * \n",
      "* * * * * * \n"
     ]
    }
   ],
   "source": [
    "#1. using * while \n",
    "n = int(input('Enter a number of rows:'))\n",
    "i = 0\n",
    "while (i < n) :\n",
    "    j = i + 1\n",
    "    while (j > 0) :\n",
    "        print(\"*\", end=\" \")\n",
    "        j = j-1\n",
    "    print()\n",
    "    i = i+1"
   ]
  },
  {
   "cell_type": "code",
   "execution_count": 2,
   "id": "90356851",
   "metadata": {},
   "outputs": [
    {
     "name": "stdout",
     "output_type": "stream",
     "text": [
      "A \n",
      "B B \n",
      "C C C \n",
      "D D D D \n",
      "E E E E E \n",
      "F F F F F F \n",
      "G G G G G G G \n"
     ]
    }
   ],
   "source": [
    "#2. try to print alphabetic \n",
    "n=7\n",
    "i = 0\n",
    "while (i<n) :\n",
    "    j = i+1\n",
    "    while(j>0):\n",
    "        print(chr(65+i),end= \" \")\n",
    "        j=j-1\n",
    "    print()\n",
    "    i=i+1\n",
    "        "
   ]
  },
  {
   "cell_type": "code",
   "execution_count": 14,
   "id": "321ff3ce",
   "metadata": {},
   "outputs": [
    {
     "name": "stdout",
     "output_type": "stream",
     "text": [
      "42 45 48 51 54 57 60 63 66 69 72 75 78 81 84 87 90 93 96 99 102 105 108 111 114 117 120 123 126 129 132 135 138 141 144 147 150 153 156 159 162 165 168 171 174 177 180 183 186 189 192 195 198 201 204 207 210 213 216 219 222 225 228 231 234 237 240 243 246 249 252 255 258 261 264 267 270 273 276 279 282 285 288 291 294 297 300 303 306 309 312 315 318 321 324 327 330 333 336 339 342 345 348 351 354 357 360 363 366 369 372 375 378 381 384 387 390 393 396 399 "
     ]
    }
   ],
   "source": [
    "#3. try to all the number divisble by 3 at the range of 40 - 400 \n",
    "\n",
    "\n",
    "i=40\n",
    "while i <= 400:\n",
    "    if i % 3 == 0:\n",
    "        print(i,end=' ')\n",
    "    i = i+1\n"
   ]
  },
  {
   "cell_type": "code",
   "execution_count": 2,
   "id": "3187ff4b",
   "metadata": {},
   "outputs": [
    {
     "name": "stdout",
     "output_type": "stream",
     "text": [
      "Enter a string: Python is a high-level, interpreted, general-purpose programming language,Its design philosophy emphasizes code readability with the use of significant indentation\n",
      "Here are the vowels:  53\n"
     ]
    }
   ],
   "source": [
    "#4.try to filter out all the vowels :\n",
    "n = input(\"Enter a string: \")\n",
    "\n",
    "length = len(n)\n",
    "count=0\n",
    "counter=0\n",
    "while count<length:\n",
    "    if n[count]==\"a\" or n[count]==\"e\" or n[count]==\"i\" or n[count]==\"o\" or n[count]==\"u\":\n",
    "        counter=counter+1\n",
    "    count=count+1\n",
    "print(\"Here are the vowels: \",counter)\n"
   ]
  },
  {
   "cell_type": "code",
   "execution_count": 3,
   "id": "af721362",
   "metadata": {},
   "outputs": [
    {
     "name": "stdout",
     "output_type": "stream",
     "text": [
      "2 4 6 8 10 12 14 16 18 20 22 24 26 28 30 32 34 36 38 40 42 44 46 48 50 52 54 56 58 60 62 64 66 68 70 72 74 76 78 80 82 84 86 88 90 92 94 96 98 100 "
     ]
    }
   ],
   "source": [
    "#5. try to generate all the even number between 1 -100\n",
    "\n",
    "i=1\n",
    "while i <= 100:\n",
    "    if i % 2 == 0:\n",
    "        print(i,end=' ')\n",
    "    i = i+1\n"
   ]
  },
  {
   "cell_type": "code",
   "execution_count": 1,
   "id": "94f862da",
   "metadata": {},
   "outputs": [],
   "source": [
    "#6. define a function for all the above statement problem\n",
    "\n",
    "define a function with the def keyword, then write the function identifier (name) followed by parentheses and a colon.\n",
    "The next thing you have to do is make sure you indent with a tab or spaces and then specify what yoyu want the function to do\n",
    "for you\n"
   ]
  },
  {
   "cell_type": "code",
   "execution_count": null,
   "id": "9e3d2ce0",
   "metadata": {},
   "outputs": [
    {
     "name": "stdout",
     "output_type": "stream",
     "text": [
      "14:59:39\n",
      "15:00:39\n",
      "15:01:39\n"
     ]
    }
   ],
   "source": [
    "#7.get a time to system\n",
    "import time\n",
    "import datetime\n",
    "\n",
    "for i in range(10):\n",
    "    now = datetime.datetime.now()\n",
    "    date_time = now.strftime(\"%H:%M:%S\")\n",
    "    print(date_time)\n",
    "    time.sleep(60)."
   ]
  },
  {
   "cell_type": "code",
   "execution_count": 9,
   "id": "22797cf4",
   "metadata": {},
   "outputs": [
    {
     "name": "stdout",
     "output_type": "stream",
     "text": [
      "Today's date:  2022-08-02\n"
     ]
    }
   ],
   "source": [
    "#8.get a date to the system \n",
    "from datetime import date\n",
    "\n",
    "today = date.today()\n",
    "print(\"Today's date: \", today)"
   ]
  },
  {
   "cell_type": "code",
   "execution_count": 4,
   "id": "78e82eae",
   "metadata": {},
   "outputs": [
    {
     "data": {
      "text/plain": [
       "(221,\n",
       " b'2.0.0 closing connection s9-20020a634509000000b0041a8f882e5bsm3091383pga.42 - gsmtp')"
      ]
     },
     "execution_count": 4,
     "metadata": {},
     "output_type": "execute_result"
    }
   ],
   "source": [
    "#9.write a code to send a mail to your friend \n",
    "\n",
    "#smtplip is protocal for sent mail (simple mail transfer protocol(smtp))\n",
    "import smtplib\n",
    "s=smtplib.SMTP('smtp.gmail.com',25)\n",
    "s.starttls()\n",
    "s.login('varshaganesan05@gmail.com', 'bmiwcxdchkxkxjns')\n",
    "msg='Hi everyone \\nhow are you'\n",
    "s.sendmail('varshaganesan05@gmail.com','varshaganesan05@gmail.com',msg)\n",
    "s.quit()"
   ]
  },
  {
   "cell_type": "code",
   "execution_count": 2,
   "id": "0ae83e00",
   "metadata": {},
   "outputs": [
    {
     "name": "stdout",
     "output_type": "stream",
     "text": [
      "What hour do you want to wakeup?: 1\n",
      "What minute do you want to wakeup?: 28\n",
      "am or pm : pm\n",
      "Wakeup Lazy\n",
      "exited\n"
     ]
    }
   ],
   "source": [
    "#10. write a code trigger alaram for sheduled time\n",
    "import datetime\n",
    "alarmHour = int(input(\"What hour do you want to wakeup?: \"))\n",
    "alarmMinute = int(input(\"What minute do you want to wakeup?: \"))\n",
    "ampm = str(input(\"am or pm : \"))\n",
    "\n",
    "if(ampm == \"pm\"):\n",
    "    alarmHour = alarmHour + 12\n",
    "    \n",
    "while (1 == 1):\n",
    "    if(alarmHour == datetime.datetime.now().hour and\n",
    "      alarmMinute == datetime.datetime.now().minute):\n",
    "        print(\"Wakeup Lazy\")\n",
    "        break\n",
    "        \n",
    "print(\"exited\")"
   ]
  },
  {
   "cell_type": "code",
   "execution_count": 5,
   "id": "d2031abe",
   "metadata": {},
   "outputs": [
    {
     "name": "stdout",
     "output_type": "stream",
     "text": [
      "Host Name:  LAPTOP-Q9J1DRT9\n",
      "Ip Address:  192.168.1.5\n"
     ]
    }
   ],
   "source": [
    "#11. write a code to check ip address for your system\n",
    "import socket\n",
    "host_name = socket.gethostname()\n",
    "ip_address = socket.gethostbyname(host_name)\n",
    "\n",
    "print(\"Host Name: \",host_name)\n",
    "print(\"Ip Address: \",ip_address)"
   ]
  },
  {
   "cell_type": "code",
   "execution_count": 1,
   "id": "eed9b049",
   "metadata": {},
   "outputs": [
    {
     "data": {
      "text/plain": [
       "0"
      ]
     },
     "execution_count": 1,
     "metadata": {},
     "output_type": "execute_result"
    }
   ],
   "source": [
    "#12. write a code to check particular instalation in your system\n",
    "\n",
    "import os\n",
    "os.system(\"python\")\n"
   ]
  },
  {
   "cell_type": "code",
   "execution_count": 1,
   "id": "1863bac4",
   "metadata": {},
   "outputs": [
    {
     "name": "stdout",
     "output_type": "stream",
     "text": [
      "Requirement already satisfied: pyttsx3 in c:\\users\\admin\\anaconda3\\lib\\site-packages (2.90)\n",
      "Requirement already satisfied: pypiwin32 in c:\\users\\admin\\anaconda3\\lib\\site-packages (from pyttsx3) (223)\n",
      "Requirement already satisfied: comtypes in c:\\users\\admin\\anaconda3\\lib\\site-packages (from pyttsx3) (1.1.10)\n",
      "Requirement already satisfied: pywin32 in c:\\users\\admin\\anaconda3\\lib\\site-packages (from pyttsx3) (302)\n"
     ]
    }
   ],
   "source": [
    "#13. write a code to convert text into voice \n",
    "#pyttsx3 = python text to speech x3\n",
    "!pip install pyttsx3"
   ]
  },
  {
   "cell_type": "code",
   "execution_count": 1,
   "id": "64936501",
   "metadata": {},
   "outputs": [
    {
     "name": "stdout",
     "output_type": "stream",
     "text": [
      "sucess\n"
     ]
    }
   ],
   "source": [
    "import pyttsx3\n",
    "pyobj=pyttsx3.init()\n",
    "pyobj.say(\"Welcome to python programming\")\n",
    "pyobj.runAndWait()\n",
    "print(\"sucess\")"
   ]
  },
  {
   "cell_type": "code",
   "execution_count": 3,
   "id": "d916ac39",
   "metadata": {},
   "outputs": [
    {
     "name": "stdout",
     "output_type": "stream",
     "text": [
      "Enter a string: python programming\n",
      "Len of string is:  18\n"
     ]
    }
   ],
   "source": [
    "#14.you have to write fun which will string and return a len of it without using, a inbuilt fun len \n",
    "def string_length(my_string):\n",
    "    counter = 0\n",
    "    for char in my_string:\n",
    "        counter += 1\n",
    "    return counter\n",
    "\n",
    "string_input = input(\"Enter a string: \")\n",
    "length = string_length(string_input)\n",
    "\n",
    "print(\"Len of string is: \",length)"
   ]
  },
  {
   "cell_type": "code",
   "execution_count": 4,
   "id": "406694a4",
   "metadata": {},
   "outputs": [
    {
     "name": "stdout",
     "output_type": "stream",
     "text": [
      "0 23\n",
      "1 67\n",
      "2 86\n",
      "3 55\n",
      "4 67\n"
     ]
    }
   ],
   "source": [
    "#15. write a fun which will be able to print an index to all premictive element which will you pass\n",
    "l=[23,67,86,55,67]\n",
    "for idx,val in enumerate(l):\n",
    "    print(idx,val)"
   ]
  },
  {
   "cell_type": "code",
   "execution_count": 8,
   "id": "660d4bb5",
   "metadata": {},
   "outputs": [
    {
     "name": "stdout",
     "output_type": "stream",
     "text": [
      "ID: \n",
      "1\n",
      "2\n",
      "\n",
      "Keys: \n",
      "course = python\n",
      "fees = 15000\n",
      "course = java\n",
      "fees = 10000\n",
      "[(1, {'course': 'python', 'fees': 15000}), (2, {'course': 'java', 'fees': 10000})]\n"
     ]
    }
   ],
   "source": [
    "#16. write a function which all take input as a dict and given me out a list  of all the values even in case of 2 level nesting it should work\n",
    "\n",
    "d = {1:{'course' : 'python', 'fees' : 15000},\n",
    "    2: {'course' : 'java', 'fees' : 10000}}\n",
    "\n",
    "print(\"ID: \")\n",
    "for id in d:\n",
    "    print(id)\n",
    "print()\n",
    "\n",
    "print(\"Keys: \")\n",
    "for id in d:\n",
    "    for k in d[id]:\n",
    "        print(k, '=', d[id][k])\n",
    "l1=list(d.items())\n",
    "print(l1)\n",
    "    \n"
   ]
  },
  {
   "cell_type": "code",
   "execution_count": 9,
   "id": "36e041a3",
   "metadata": {},
   "outputs": [
    {
     "name": "stdout",
     "output_type": "stream",
     "text": [
      "Enter size of list : 3\n",
      "Enter any number: 34\n",
      "Enter any number: 45\n",
      "Enter any number: 54\n",
      "Enter size of list : 2\n",
      "Enter any number: 67\n",
      "Enter any number: 78\n",
      "Merged list:  [34, 45, 54, 67, 78]\n"
     ]
    }
   ],
   "source": [
    "#17.write a function which all take multiple list as a input and give me concatnation of all the element as and output\n",
    "l1 = []\n",
    "num = int(input(\"Enter size of list : \"))\n",
    "for n in range(num):\n",
    "    numbers = int(input(\"Enter any number: \"))\n",
    "    l1.append(numbers)\n",
    "    \n",
    "l2 = []\n",
    "num2 = int(input(\"Enter size of list : \"))\n",
    "for n in range(num2):\n",
    "    numbers2 = int(input(\"Enter any number: \"))\n",
    "    l1.append(numbers2)\n",
    "    \n",
    "merged_lists = l1 +l2\n",
    "print(\"Merged list: \", merged_lists)"
   ]
  },
  {
   "cell_type": "code",
   "execution_count": 8,
   "id": "30706d9c",
   "metadata": {},
   "outputs": [
    {
     "name": "stdout",
     "output_type": "stream",
     "text": [
      "C:\\Users\\ADMIN\\Downloads\n",
      "C:\\Users\\ADMIN\\Downloads\\CTS doc\n",
      "C:\\Users\\ADMIN\\Downloads\\CTS doc\\Cognizant _ Completion History_files\n",
      "C:\\Users\\ADMIN\\Downloads\\CTS doc\\Course Completion Certificate_files\n",
      "C:\\Users\\ADMIN\\Downloads\\CTS doc\\Ethics\n"
     ]
    }
   ],
   "source": [
    "#18. write a function which all would return list of all file name from directory \n",
    "import os\n",
    "folder_path = r\"C:\\Users\\ADMIN\\Downloads\"\n",
    "list_of_files = os.listdir(folder_path)\n",
    "#print all the  files\n",
    "for root,dirs,files in os.walk(folder_path):\n",
    "    print(root)\n",
    "        \n",
    "\n",
    "\n",
    "    "
   ]
  },
  {
   "cell_type": "code",
   "execution_count": 10,
   "id": "a8baa274",
   "metadata": {},
   "outputs": [
    {
     "name": "stdout",
     "output_type": "stream",
     "text": [
      "download.jpg\n",
      "edward-howell-eWrJQFRhP88-unsplash.jpg\n"
     ]
    }
   ],
   "source": [
    "#19. write a function which all able to read img files and show it of \n",
    "import os\n",
    "folder_path = r\"C:\\Users\\ADMIN\\Downloads\"\n",
    "list_of_files = os.listdir(folder_path)\n",
    "\n",
    "for file_name in list_of_files:\n",
    "    if \".jpg\" in file_name:\n",
    "        print(file_name)\n",
    "\n"
   ]
  },
  {
   "cell_type": "code",
   "execution_count": 1,
   "id": "4c444b72",
   "metadata": {},
   "outputs": [
    {
     "name": "stdout",
     "output_type": "stream",
     "text": [
      "Convocation certificate.pdf\n",
      "Full Stack Data Science Bootcamp Invoice.pdf\n",
      "IMG_20220804_174806 (1).pdf\n",
      "varsha_resume.pdf\n"
     ]
    }
   ],
   "source": [
    "#20. write a function which you will able to append two pdf file\n",
    "import os\n",
    "folder_path = r\"C:\\Users\\ADMIN\\Downloads\"\n",
    "list_of_files = os.listdir(folder_path)\n",
    "\n",
    "for file_name in list_of_files:\n",
    "    if \".pdf\" in file_name:\n",
    "        print(file_name)\n",
    "    \n",
    "    \n"
   ]
  },
  {
   "cell_type": "code",
   "execution_count": 3,
   "id": "8067af53",
   "metadata": {},
   "outputs": [
    {
     "name": "stdout",
     "output_type": "stream",
     "text": [
      "Deadlines will.docx\n",
      "Email-writing.docx\n",
      "From.docx\n",
      "I am a recent graduated of MS University.docx\n",
      "In school days.docx\n",
      "Stepplus Assessment.docx\n",
      "VArsha_3 lie_02.docx\n",
      "Varsha_Day 2 - KT.docx\n",
      "Varsha_Day1 -KT.docx\n",
      "Varsha_Describe the most memorable day of your life_02 - Copy.docx\n",
      "Varsha_Describe the most memorable day of your life_02.docx\n",
      "Varsha_Describe what you did last Sunday_02.docx\n",
      "Varsha_Describe your best friend_02.docx\n",
      "Varsha_Describe your Last day in College_02.docx\n",
      "Varsha_Email-writing.docx\n",
      "Varsha_Grammer_Exercise.docx\n",
      "Varsha_movie_02.docx\n",
      "Varsha_One day your wishes come true_02.docx\n",
      "Varsha_only person left on earth_02.docx\n",
      "Varsha_rolemodel_02.docx\n",
      "Varsha_Your experience in the lock down during the pandemic_02.docx\n",
      "Which is your favourite sport Describe it.docx\n"
     ]
    }
   ],
   "source": [
    "#21. write a function which can help you filter onlly a word file in directory\n",
    "import os\n",
    "folder_path = r\"C:\\Users\\ADMIN\\OneDrive\\Documents\"\n",
    "list_of_files = os.listdir(folder_path)\n",
    "\n",
    "for file_name in list_of_files:\n",
    "    if \".docx\" in file_name:\n",
    "        print(file_name)"
   ]
  },
  {
   "cell_type": "code",
   "execution_count": 2,
   "id": "c948853a",
   "metadata": {},
   "outputs": [
    {
     "name": "stdout",
     "output_type": "stream",
     "text": [
      "Do you want to shut down  (yes / no) : yes\n"
     ]
    }
   ],
   "source": [
    "#22. write a function which will be able to shoutdown ur computer\n",
    "import os\n",
    "\n",
    "shutdown = input(\"Do you want to shut down  (yes / no) : \")\n",
    "if shutdown == \"yes\":\n",
    "    os.system(\"shutdown /s /s 1\")\n",
    "else:\n",
    "    print(\"shout down is not requested\")"
   ]
  },
  {
   "cell_type": "code",
   "execution_count": 1,
   "id": "a8da6b8c",
   "metadata": {},
   "outputs": [
    {
     "ename": "ModuleNotFoundError",
     "evalue": "No module named 'cv2'",
     "output_type": "error",
     "traceback": [
      "\u001b[1;31m---------------------------------------------------------------------------\u001b[0m",
      "\u001b[1;31mModuleNotFoundError\u001b[0m                       Traceback (most recent call last)",
      "Input \u001b[1;32mIn [1]\u001b[0m, in \u001b[0;36m<cell line: 3>\u001b[1;34m()\u001b[0m\n\u001b[0;32m      1\u001b[0m \u001b[38;5;66;03m#23. write a function which can read a video file and play for you \u001b[39;00m\n\u001b[1;32m----> 3\u001b[0m \u001b[38;5;28;01mimport\u001b[39;00m \u001b[38;5;21;01mcv2\u001b[39;00m\n\u001b[0;32m      4\u001b[0m \u001b[38;5;28;01mimport\u001b[39;00m \u001b[38;5;21;01mnumpy\u001b[39;00m \u001b[38;5;28;01mas\u001b[39;00m \u001b[38;5;21;01mnp\u001b[39;00m\n\u001b[0;32m      6\u001b[0m cap \u001b[38;5;241m=\u001b[39m cv2\u001b[38;5;241m.\u001b[39mVideoCapture(\u001b[38;5;241m1\u001b[39m)\n",
      "\u001b[1;31mModuleNotFoundError\u001b[0m: No module named 'cv2'"
     ]
    }
   ],
   "source": [
    "#23. write a function which can read a video file and play for you \n",
    "\n",
    "import cv2\n",
    "import numpy as np\n",
    "\n",
    "cap = cv2.VideoCapture(1)\n",
    "\n",
    "while(True):\n",
    "    ret, frame = cap.read()\n",
    "    \n",
    "    cv2.imshow(\"frame\", frame)\n",
    "    \n",
    "    if cv2.waitkey(1) & 0xFF == ord(\"q\"):\n",
    "        break\n",
    "        \n",
    "cap.release()\n",
    "cv2.destroyAllWindows()\n"
   ]
  },
  {
   "cell_type": "code",
   "execution_count": 2,
   "id": "8f98eb25",
   "metadata": {},
   "outputs": [
    {
     "name": "stdout",
     "output_type": "stream",
     "text": [
      "C:\\Users\\ADMIN\\Downloads\n",
      "C:\\Users\\ADMIN\\Downloads\\CTS doc\n",
      "C:\\Users\\ADMIN\\Downloads\\CTS doc\\Cognizant _ Completion History_files\n",
      "C:\\Users\\ADMIN\\Downloads\\CTS doc\\Course Completion Certificate_files\n",
      "C:\\Users\\ADMIN\\Downloads\\CTS doc\\Ethics\n"
     ]
    }
   ],
   "source": [
    "#24. write a function which all return list of all file name from a directory\n",
    "import os\n",
    "folder_path = r\"C:\\Users\\ADMIN\\Downloads\"\n",
    "list_of_files = os.listdir(folder_path)\n",
    "#print all the  files\n",
    "for root,dirs,files in os.walk(folder_path):\n",
    "    print(root)\n"
   ]
  },
  {
   "cell_type": "code",
   "execution_count": null,
   "id": "c7981f8c",
   "metadata": {},
   "outputs": [],
   "source": [
    "#25. aceess to mail\n",
    "import smtplib\n",
    "s=smtplib.SMTP('smtp.gmail.com',25)\n",
    "s.starttls()\n",
    "s.login('varshaganesan05@gmail.com', 'bmiwcxdchkxkxjns')\n",
    "msg='Hi everyone \\nhow are you'\n",
    "s.sendmail('varshaganesan05@gmail.com','varshaganesan05@gmail.com',msg)\n",
    "s.quit()\n"
   ]
  },
  {
   "cell_type": "code",
   "execution_count": null,
   "id": "a2bea7c9",
   "metadata": {},
   "outputs": [],
   "source": []
  }
 ],
 "metadata": {
  "kernelspec": {
   "display_name": "Python 3 (ipykernel)",
   "language": "python",
   "name": "python3"
  },
  "language_info": {
   "codemirror_mode": {
    "name": "ipython",
    "version": 3
   },
   "file_extension": ".py",
   "mimetype": "text/x-python",
   "name": "python",
   "nbconvert_exporter": "python",
   "pygments_lexer": "ipython3",
   "version": "3.9.12"
  }
 },
 "nbformat": 4,
 "nbformat_minor": 5
}
